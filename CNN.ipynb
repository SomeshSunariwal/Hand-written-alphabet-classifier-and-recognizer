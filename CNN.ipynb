{
 "cells": [
  {
   "cell_type": "code",
   "execution_count": null,
   "metadata": {},
   "outputs": [],
   "source": [
    "# Importing the Nessesary Packages\n",
    "from keras.models import Sequential\n",
    "from keras.layers import Convolution2D\n",
    "from keras.layers import MaxPool2D\n",
    "from keras.layers import Flatten\n",
    "from keras.layers import Dense"
   ]
  },
  {
   "cell_type": "code",
   "execution_count": 41,
   "metadata": {},
   "outputs": [
    {
     "name": "stdout",
     "output_type": "stream",
     "text": [
      "Found 5200 images belonging to 26 classes.\n",
      "Found 1631 images belonging to 26 classes.\n"
     ]
    }
   ],
   "source": [
    "#step 1 Initialize the Convolution Neural Network\n",
    "classifier = Sequential()\n",
    "\n",
    "#step 2 Creating My first Convolution Layer\n",
    "classifier.add(Convolution2D(filters=32, kernel_size=(3, 3) ,activation='relu', input_shape=(32, 32, 3)))\n",
    "\n",
    "#step 3 Creating a first pooling Layer\n",
    "classifier.add(MaxPool2D(pool_size=(2, 2)))\n",
    "\n",
    "# Here is my second Convolutional Layer \n",
    "classifier.add(Convolution2D(filters=32, kernel_size=(3, 3) ,activation='relu'))\n",
    "\n",
    "# Here is my Second Pooling layer\n",
    "classifier.add(MaxPool2D(pool_size=(2, 2)))\n",
    "\n",
    "#step 4 Flalten the pooling Layer\n",
    "classifier.add(Flatten())\n",
    "\n",
    "# Connect the Flatten layer to the fully Connected Layer using the dense\n",
    "classifier.add(Dense(units=26, activation='softmax'))\n",
    "\n",
    "# Compiling the CNN model\n",
    "classifier.compile(optimizer='Adam', loss='categorical_crossentropy', metrics=['accuracy'])\n",
    "\n",
    "# For Image Processing i imported the keras image preprocessor\n",
    "from keras.preprocessing.image import ImageDataGenerator\n",
    "\n",
    "# Image transformation on images\n",
    "train_datagen = ImageDataGenerator(rescale=1./255,\n",
    "                                   shear_range=0.2,\n",
    "                                   zoom_range=0.2,\n",
    "                                   horizontal_flip=True)\n",
    "\n",
    "#Same for the test set as well\n",
    "test_datagen = ImageDataGenerator(rescale=1./255)\n",
    "\n",
    "#get the training data set using the flow from directory method\n",
    "train = train_datagen.flow_from_directory('training',\n",
    "                                          target_size=(32, 32),\n",
    "                                          batch_size=32,\n",
    "                                          class_mode='categorical')\n",
    "\n",
    "#Same for the test datasets\n",
    "test = test_datagen.flow_from_directory('test',\n",
    "                                        target_size=(32, 32),\n",
    "                                        batch_size=32,\n",
    "                                        class_mode='categorical')"
   ]
  },
  {
   "cell_type": "code",
   "execution_count": 42,
   "metadata": {
    "scrolled": false
   },
   "outputs": [
    {
     "name": "stdout",
     "output_type": "stream",
     "text": [
      "Epoch 1/25\n",
      "50/50 [==============================] - 32s 643ms/step - loss: 2.6972 - acc: 0.2544 - val_loss: 1.4296 - val_acc: 0.5600\n",
      "Epoch 2/25\n",
      "50/50 [==============================] - 18s 357ms/step - loss: 1.6131 - acc: 0.5287 - val_loss: 0.9160 - val_acc: 0.7242\n",
      "Epoch 3/25\n",
      "50/50 [==============================] - 20s 403ms/step - loss: 1.2841 - acc: 0.6338 - val_loss: 0.7285 - val_acc: 0.7817\n",
      "Epoch 4/25\n",
      "50/50 [==============================] - 11s 218ms/step - loss: 1.1003 - acc: 0.6694 - val_loss: 0.5987 - val_acc: 0.8174\n",
      "Epoch 5/25\n",
      "50/50 [==============================] - 8s 165ms/step - loss: 1.0418 - acc: 0.6975 - val_loss: 0.5125 - val_acc: 0.8612\n",
      "Epoch 6/25\n",
      "50/50 [==============================] - 8s 158ms/step - loss: 0.9463 - acc: 0.7344 - val_loss: 0.4659 - val_acc: 0.8618\n",
      "Epoch 7/25\n",
      "50/50 [==============================] - 8s 155ms/step - loss: 0.8580 - acc: 0.7531 - val_loss: 0.4906 - val_acc: 0.8643\n",
      "Epoch 8/25\n",
      "50/50 [==============================] - 8s 157ms/step - loss: 0.8010 - acc: 0.7562 - val_loss: 0.3986 - val_acc: 0.8837\n",
      "Epoch 9/25\n",
      "50/50 [==============================] - 8s 160ms/step - loss: 0.7327 - acc: 0.8031 - val_loss: 0.4511 - val_acc: 0.8637\n",
      "Epoch 10/25\n",
      "50/50 [==============================] - 8s 158ms/step - loss: 0.7478 - acc: 0.7813 - val_loss: 0.4105 - val_acc: 0.8680\n",
      "Epoch 11/25\n",
      "50/50 [==============================] - 8s 161ms/step - loss: 0.6474 - acc: 0.8150 - val_loss: 0.3577 - val_acc: 0.8893\n",
      "Epoch 12/25\n",
      "50/50 [==============================] - 8s 166ms/step - loss: 0.6146 - acc: 0.8206 - val_loss: 0.3522 - val_acc: 0.8881\n",
      "Epoch 13/25\n",
      "50/50 [==============================] - 8s 162ms/step - loss: 0.7465 - acc: 0.8019 - val_loss: 0.3942 - val_acc: 0.8793\n",
      "Epoch 14/25\n",
      "50/50 [==============================] - 8s 167ms/step - loss: 0.5994 - acc: 0.8387 - val_loss: 0.3850 - val_acc: 0.8724\n",
      "Epoch 15/25\n",
      "50/50 [==============================] - 8s 158ms/step - loss: 0.6053 - acc: 0.8150 - val_loss: 0.2965 - val_acc: 0.9037\n",
      "Epoch 16/25\n",
      "50/50 [==============================] - 8s 160ms/step - loss: 0.6333 - acc: 0.8169 - val_loss: 0.3301 - val_acc: 0.8843\n",
      "Epoch 17/25\n",
      "50/50 [==============================] - 9s 174ms/step - loss: 0.5649 - acc: 0.8413 - val_loss: 0.3315 - val_acc: 0.9099\n",
      "Epoch 18/25\n",
      "50/50 [==============================] - 9s 174ms/step - loss: 0.5477 - acc: 0.8419 - val_loss: 0.2839 - val_acc: 0.9193\n",
      "Epoch 19/25\n",
      "50/50 [==============================] - 9s 173ms/step - loss: 0.5800 - acc: 0.8406 - val_loss: 0.2941 - val_acc: 0.8987\n",
      "Epoch 20/25\n",
      "50/50 [==============================] - 11s 220ms/step - loss: 0.4388 - acc: 0.8713 - val_loss: 0.2904 - val_acc: 0.9024\n",
      "Epoch 21/25\n",
      "50/50 [==============================] - 8s 165ms/step - loss: 0.5019 - acc: 0.8531 - val_loss: 0.2862 - val_acc: 0.9087\n",
      "Epoch 22/25\n",
      "50/50 [==============================] - 8s 167ms/step - loss: 0.5272 - acc: 0.8500 - val_loss: 0.3287 - val_acc: 0.8981\n",
      "Epoch 23/25\n",
      "50/50 [==============================] - 8s 161ms/step - loss: 0.5233 - acc: 0.8550 - val_loss: 0.2633 - val_acc: 0.9031\n",
      "Epoch 24/25\n",
      "50/50 [==============================] - 8s 163ms/step - loss: 0.4455 - acc: 0.8575 - val_loss: 0.2749 - val_acc: 0.9049\n",
      "Epoch 25/25\n",
      "50/50 [==============================] - 8s 164ms/step - loss: 0.4881 - acc: 0.8769 - val_loss: 0.2587 - val_acc: 0.9181\n"
     ]
    },
    {
     "data": {
      "text/plain": [
       "<keras.callbacks.History at 0x20c996eaeb8>"
      ]
     },
     "execution_count": 42,
     "metadata": {},
     "output_type": "execute_result"
    }
   ],
   "source": [
    "#Fit the model into classifier\n",
    "classifier.fit_generator(train,\n",
    "                         steps_per_epoch=50,\n",
    "                         epochs=25,\n",
    "                         validation_data=test,\n",
    "                         validation_steps=50)"
   ]
  },
  {
   "cell_type": "code",
   "execution_count": 49,
   "metadata": {},
   "outputs": [
    {
     "data": {
      "text/plain": [
       "{'A': 0,\n",
       " 'B': 1,\n",
       " 'C': 2,\n",
       " 'D': 3,\n",
       " 'E': 4,\n",
       " 'F': 5,\n",
       " 'G': 6,\n",
       " 'H': 7,\n",
       " 'I': 8,\n",
       " 'J': 9,\n",
       " 'K': 10,\n",
       " 'L': 11,\n",
       " 'M': 12,\n",
       " 'N': 13,\n",
       " 'O': 14,\n",
       " 'P': 15,\n",
       " 'Q': 16,\n",
       " 'R': 17,\n",
       " 'S': 18,\n",
       " 'T': 19,\n",
       " 'U': 20,\n",
       " 'V': 21,\n",
       " 'W': 22,\n",
       " 'X': 23,\n",
       " 'Y': 24,\n",
       " 'Z': 25}"
      ]
     },
     "execution_count": 49,
     "metadata": {},
     "output_type": "execute_result"
    }
   ],
   "source": [
    "import numpy as np\n",
    "from keras.preprocessing import image\n",
    "test_image = image.load_img('Images.jpg', target_size=(32, 32))\n",
    "test_image = image.img_to_array(test_image)\n",
    "test_image = np.expand_dims(test_image,axis = 0)\n",
    "result = classifier.predict(test_image)\n",
    "test.class_indices"
   ]
  },
  {
   "cell_type": "code",
   "execution_count": 50,
   "metadata": {},
   "outputs": [
    {
     "name": "stdout",
     "output_type": "stream",
     "text": [
      "Letter is : J\n"
     ]
    }
   ],
   "source": [
    "list1 = ['A','B','C','D','E','F',\n",
    "         'G','H','I','J','K','L',\n",
    "         'M','N','O','P','Q','R',\n",
    "         'S','T','U','V','W','X',\n",
    "         'Y','Z']\n",
    "for i in range(0,26):\n",
    "    if (result[0][i] == 1):\n",
    "        print('Letter is :',list1[i])"
   ]
  },
  {
   "cell_type": "code",
   "execution_count": null,
   "metadata": {},
   "outputs": [],
   "source": []
  }
 ],
 "metadata": {
  "kernelspec": {
   "display_name": "Python 3",
   "language": "python",
   "name": "python3"
  },
  "language_info": {
   "codemirror_mode": {
    "name": "ipython",
    "version": 3
   },
   "file_extension": ".py",
   "mimetype": "text/x-python",
   "name": "python",
   "nbconvert_exporter": "python",
   "pygments_lexer": "ipython3",
   "version": "3.6.5"
  }
 },
 "nbformat": 4,
 "nbformat_minor": 2
}
